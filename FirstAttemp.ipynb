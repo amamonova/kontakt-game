{
  "nbformat": 4,
  "nbformat_minor": 0,
  "metadata": {
    "colab": {
      "name": "Untitled0.ipynb",
      "provenance": [],
      "include_colab_link": true
    },
    "kernelspec": {
      "name": "python3",
      "display_name": "Python 3"
    }
  },
  "cells": [
    {
      "cell_type": "markdown",
      "metadata": {
        "id": "view-in-github",
        "colab_type": "text"
      },
      "source": [
        "<a href=\"https://colab.research.google.com/github/amamonova/kontakt-game/blob/data/FirstAttemp.ipynb\" target=\"_parent\"><img src=\"https://colab.research.google.com/assets/colab-badge.svg\" alt=\"Open In Colab\"/></a>"
      ]
    },
    {
      "cell_type": "code",
      "metadata": {
        "id": "Liy3OsQ4yHUI",
        "colab_type": "code",
        "colab": {}
      },
      "source": [
        "#from google.colab import files\n",
        "#uploaded = files.upload()\n"
      ],
      "execution_count": 0,
      "outputs": []
    },
    {
      "cell_type": "code",
      "metadata": {
        "id": "ln0jIVG6ze8U",
        "colab_type": "code",
        "outputId": "983779ee-ef7e-4d22-8cb3-2bbd5146d62c",
        "colab": {
          "base_uri": "https://localhost:8080/",
          "height": 35
        }
      },
      "source": [
        "import pandas as pd\n",
        "pd.plotting.register_matplotlib_converters()\n",
        "import matplotlib.pyplot as plt\n",
        "%matplotlib inline\n",
        "import seaborn as sns\n",
        "print(\"Setup Complete\")"
      ],
      "execution_count": 363,
      "outputs": [
        {
          "output_type": "stream",
          "text": [
            "Setup Complete\n"
          ],
          "name": "stdout"
        }
      ]
    },
    {
      "cell_type": "code",
      "metadata": {
        "id": "c9sEosoYznEQ",
        "colab_type": "code",
        "outputId": "787f04a4-c540-4d41-e028-d7043e7c6662",
        "colab": {
          "base_uri": "https://localhost:8080/",
          "height": 161
        }
      },
      "source": [
        "file_path = 'wiktionary_data_KEK0 (3).csv'\n",
        "data = pd.read_json(file_path)\n",
        "data = data.reset_index()\n",
        "data = data.drop(['index'], axis=1)\n",
        "print(data.head())\n"
      ],
      "execution_count": 364,
      "outputs": [
        {
          "output_type": "stream",
          "text": [
            "                title  ...                                         phraseme\n",
            "0  Заглавная страница  ...                                               []\n",
            "1           Фемиксира  ...                                               []\n",
            "2             мальчик  ...  [а был ли мальчик?, борьба нанайских мальчиков]\n",
            "3           публицист  ...                                               []\n",
            "4               Хвост  ...                                               []\n",
            "\n",
            "[5 rows x 5 columns]\n"
          ],
          "name": "stdout"
        }
      ]
    },
    {
      "cell_type": "code",
      "metadata": {
        "id": "0NChMD0x0DVz",
        "colab_type": "code",
        "colab": {
          "base_uri": "https://localhost:8080/",
          "height": 35
        },
        "outputId": "79f28811-2c3f-4228-b0a2-2b8ba26547fc"
      },
      "source": [
        "print(data.columns)"
      ],
      "execution_count": 365,
      "outputs": [
        {
          "output_type": "stream",
          "text": [
            "Index(['title', 'POS', 'meanings', 'relations', 'phraseme'], dtype='object')\n"
          ],
          "name": "stdout"
        }
      ]
    },
    {
      "cell_type": "code",
      "metadata": {
        "id": "LUzbeQeb2BCg",
        "colab_type": "code",
        "outputId": "47e18eb5-4c4a-4153-a114-d1355846e7bf",
        "colab": {
          "base_uri": "https://localhost:8080/",
          "height": 35
        }
      },
      "source": [
        "print(data['meanings'][1], type(data['meanings'][1]))"
      ],
      "execution_count": 366,
      "outputs": [
        {
          "output_type": "stream",
          "text": [
            "[['согласно легендам греческой мифологии — город на дальнем берегу Эвксинского Понта (Черного моря), столица племени Амазонок', ['']]] <class 'list'>\n"
          ],
          "name": "stdout"
        }
      ]
    },
    {
      "cell_type": "code",
      "metadata": {
        "id": "sBaw6smeE7-G",
        "colab_type": "code",
        "colab": {
          "base_uri": "https://localhost:8080/",
          "height": 35
        },
        "outputId": "c85cbb66-25cd-4d16-ed8e-17b3e6529493"
      },
      "source": [
        "data.shape[0]"
      ],
      "execution_count": 367,
      "outputs": [
        {
          "output_type": "execute_result",
          "data": {
            "text/plain": [
              "21"
            ]
          },
          "metadata": {
            "tags": []
          },
          "execution_count": 367
        }
      ]
    },
    {
      "cell_type": "code",
      "metadata": {
        "id": "zBYuSs2SFZrg",
        "colab_type": "code",
        "colab": {
          "base_uri": "https://localhost:8080/",
          "height": 204
        },
        "outputId": "d7cd3158-b686-4bda-cfaa-85a860472ce9"
      },
      "source": [
        "nums = data['meanings'].map(lambda x: len(x))\n",
        "nums.head()\n",
        "data.insert(len(data.columns), 'Number of meanings', nums)\n",
        "data.head()"
      ],
      "execution_count": 368,
      "outputs": [
        {
          "output_type": "execute_result",
          "data": {
            "text/html": [
              "<div>\n",
              "<style scoped>\n",
              "    .dataframe tbody tr th:only-of-type {\n",
              "        vertical-align: middle;\n",
              "    }\n",
              "\n",
              "    .dataframe tbody tr th {\n",
              "        vertical-align: top;\n",
              "    }\n",
              "\n",
              "    .dataframe thead th {\n",
              "        text-align: right;\n",
              "    }\n",
              "</style>\n",
              "<table border=\"1\" class=\"dataframe\">\n",
              "  <thead>\n",
              "    <tr style=\"text-align: right;\">\n",
              "      <th></th>\n",
              "      <th>title</th>\n",
              "      <th>POS</th>\n",
              "      <th>meanings</th>\n",
              "      <th>relations</th>\n",
              "      <th>phraseme</th>\n",
              "      <th>Number of meanings</th>\n",
              "    </tr>\n",
              "  </thead>\n",
              "  <tbody>\n",
              "    <tr>\n",
              "      <th>0</th>\n",
              "      <td>Заглавная страница</td>\n",
              "      <td></td>\n",
              "      <td>[]</td>\n",
              "      <td>{'synonyms': [], 'antonyms': [], 'hypernyms': ...</td>\n",
              "      <td>[]</td>\n",
              "      <td>0</td>\n",
              "    </tr>\n",
              "    <tr>\n",
              "      <th>1</th>\n",
              "      <td>Фемиксира</td>\n",
              "      <td>noun</td>\n",
              "      <td>[[согласно легендам греческой мифологии — горо...</td>\n",
              "      <td>{'synonyms': ['', ''], 'antonyms': ['', ''], '...</td>\n",
              "      <td>[]</td>\n",
              "      <td>1</td>\n",
              "    </tr>\n",
              "    <tr>\n",
              "      <th>2</th>\n",
              "      <td>мальчик</td>\n",
              "      <td>noun</td>\n",
              "      <td>[[ребёнок либо подросток мужского пола, [Мальч...</td>\n",
              "      <td>{'synonyms': ['частичные: малец', 'мальчуган',...</td>\n",
              "      <td>[а был ли мальчик?, борьба нанайских мальчиков]</td>\n",
              "      <td>6</td>\n",
              "    </tr>\n",
              "    <tr>\n",
              "      <th>3</th>\n",
              "      <td>публицист</td>\n",
              "      <td>noun</td>\n",
              "      <td>[[журналист, пишущий о политике и общественной...</td>\n",
              "      <td>{'synonyms': [''], 'antonyms': [''], 'hypernym...</td>\n",
              "      <td>[]</td>\n",
              "      <td>2</td>\n",
              "    </tr>\n",
              "    <tr>\n",
              "      <th>4</th>\n",
              "      <td>Хвост</td>\n",
              "      <td>noun</td>\n",
              "      <td>[[фамилия, []], [, []]]</td>\n",
              "      <td>{'synonyms': ['', ''], 'antonyms': ['', ''], '...</td>\n",
              "      <td>[]</td>\n",
              "      <td>2</td>\n",
              "    </tr>\n",
              "  </tbody>\n",
              "</table>\n",
              "</div>"
            ],
            "text/plain": [
              "                title  ... Number of meanings\n",
              "0  Заглавная страница  ...                  0\n",
              "1           Фемиксира  ...                  1\n",
              "2             мальчик  ...                  6\n",
              "3           публицист  ...                  2\n",
              "4               Хвост  ...                  2\n",
              "\n",
              "[5 rows x 6 columns]"
            ]
          },
          "metadata": {
            "tags": []
          },
          "execution_count": 368
        }
      ]
    },
    {
      "cell_type": "code",
      "metadata": {
        "id": "Z5s7JTWjG2ZD",
        "colab_type": "code",
        "colab": {}
      },
      "source": [
        "def convert_meanings(meaning):\n",
        "  try:\n",
        "    mean, example = meaning[0], meaning[1]\n",
        "  except IndexError:\n",
        "    return 0\n",
        "  return len(example)"
      ],
      "execution_count": 0,
      "outputs": []
    },
    {
      "cell_type": "code",
      "metadata": {
        "id": "47kAYgiyGkD-",
        "colab_type": "code",
        "colab": {
          "base_uri": "https://localhost:8080/",
          "height": 125
        },
        "outputId": "51c40b26-9ee1-4ee6-bd7b-fd9449fb3d47"
      },
      "source": [
        "nums = data['meanings'].map(convert_meanings)\n",
        "nums.head()"
      ],
      "execution_count": 370,
      "outputs": [
        {
          "output_type": "execute_result",
          "data": {
            "text/plain": [
              "0    0\n",
              "1    0\n",
              "2    2\n",
              "3    2\n",
              "4    2\n",
              "Name: meanings, dtype: int64"
            ]
          },
          "metadata": {
            "tags": []
          },
          "execution_count": 370
        }
      ]
    },
    {
      "cell_type": "code",
      "metadata": {
        "id": "0JSxztbBHc-w",
        "colab_type": "code",
        "colab": {}
      },
      "source": [
        "data.insert(len(data.columns), 'Number of examples', nums)"
      ],
      "execution_count": 0,
      "outputs": []
    },
    {
      "cell_type": "code",
      "metadata": {
        "id": "BiZHYu_NHmAJ",
        "colab_type": "code",
        "colab": {
          "base_uri": "https://localhost:8080/",
          "height": 204
        },
        "outputId": "b2002c6b-e127-48f0-ed44-53c7023b7620"
      },
      "source": [
        "data.head()"
      ],
      "execution_count": 372,
      "outputs": [
        {
          "output_type": "execute_result",
          "data": {
            "text/html": [
              "<div>\n",
              "<style scoped>\n",
              "    .dataframe tbody tr th:only-of-type {\n",
              "        vertical-align: middle;\n",
              "    }\n",
              "\n",
              "    .dataframe tbody tr th {\n",
              "        vertical-align: top;\n",
              "    }\n",
              "\n",
              "    .dataframe thead th {\n",
              "        text-align: right;\n",
              "    }\n",
              "</style>\n",
              "<table border=\"1\" class=\"dataframe\">\n",
              "  <thead>\n",
              "    <tr style=\"text-align: right;\">\n",
              "      <th></th>\n",
              "      <th>title</th>\n",
              "      <th>POS</th>\n",
              "      <th>meanings</th>\n",
              "      <th>relations</th>\n",
              "      <th>phraseme</th>\n",
              "      <th>Number of meanings</th>\n",
              "      <th>Number of examples</th>\n",
              "    </tr>\n",
              "  </thead>\n",
              "  <tbody>\n",
              "    <tr>\n",
              "      <th>0</th>\n",
              "      <td>Заглавная страница</td>\n",
              "      <td></td>\n",
              "      <td>[]</td>\n",
              "      <td>{'synonyms': [], 'antonyms': [], 'hypernyms': ...</td>\n",
              "      <td>[]</td>\n",
              "      <td>0</td>\n",
              "      <td>0</td>\n",
              "    </tr>\n",
              "    <tr>\n",
              "      <th>1</th>\n",
              "      <td>Фемиксира</td>\n",
              "      <td>noun</td>\n",
              "      <td>[[согласно легендам греческой мифологии — горо...</td>\n",
              "      <td>{'synonyms': ['', ''], 'antonyms': ['', ''], '...</td>\n",
              "      <td>[]</td>\n",
              "      <td>1</td>\n",
              "      <td>0</td>\n",
              "    </tr>\n",
              "    <tr>\n",
              "      <th>2</th>\n",
              "      <td>мальчик</td>\n",
              "      <td>noun</td>\n",
              "      <td>[[ребёнок либо подросток мужского пола, [Мальч...</td>\n",
              "      <td>{'synonyms': ['частичные: малец', 'мальчуган',...</td>\n",
              "      <td>[а был ли мальчик?, борьба нанайских мальчиков]</td>\n",
              "      <td>6</td>\n",
              "      <td>2</td>\n",
              "    </tr>\n",
              "    <tr>\n",
              "      <th>3</th>\n",
              "      <td>публицист</td>\n",
              "      <td>noun</td>\n",
              "      <td>[[журналист, пишущий о политике и общественной...</td>\n",
              "      <td>{'synonyms': [''], 'antonyms': [''], 'hypernym...</td>\n",
              "      <td>[]</td>\n",
              "      <td>2</td>\n",
              "      <td>2</td>\n",
              "    </tr>\n",
              "    <tr>\n",
              "      <th>4</th>\n",
              "      <td>Хвост</td>\n",
              "      <td>noun</td>\n",
              "      <td>[[фамилия, []], [, []]]</td>\n",
              "      <td>{'synonyms': ['', ''], 'antonyms': ['', ''], '...</td>\n",
              "      <td>[]</td>\n",
              "      <td>2</td>\n",
              "      <td>2</td>\n",
              "    </tr>\n",
              "  </tbody>\n",
              "</table>\n",
              "</div>"
            ],
            "text/plain": [
              "                title   POS  ... Number of meanings Number of examples\n",
              "0  Заглавная страница        ...                  0                  0\n",
              "1           Фемиксира  noun  ...                  1                  0\n",
              "2             мальчик  noun  ...                  6                  2\n",
              "3           публицист  noun  ...                  2                  2\n",
              "4               Хвост  noun  ...                  2                  2\n",
              "\n",
              "[5 rows x 7 columns]"
            ]
          },
          "metadata": {
            "tags": []
          },
          "execution_count": 372
        }
      ]
    },
    {
      "cell_type": "code",
      "metadata": {
        "id": "IPp1dMonRDBU",
        "colab_type": "code",
        "colab": {}
      },
      "source": [
        "import re"
      ],
      "execution_count": 0,
      "outputs": []
    },
    {
      "cell_type": "code",
      "metadata": {
        "id": "Mhtwm85HQxhU",
        "colab_type": "code",
        "colab": {}
      },
      "source": [
        "def my_filter(some_list):\n",
        "  return list(filter(lambda x: (x != '' and x != '-'), some_list))"
      ],
      "execution_count": 0,
      "outputs": []
    },
    {
      "cell_type": "code",
      "metadata": {
        "id": "FA4SITJvROHT",
        "colab_type": "code",
        "colab": {
          "base_uri": "https://localhost:8080/",
          "height": 35
        },
        "outputId": "cf75bf69-4d1f-49a9-9c6c-7ad9e09afac9"
      },
      "source": [
        "my_filter(['', '-', '12'])"
      ],
      "execution_count": 375,
      "outputs": [
        {
          "output_type": "execute_result",
          "data": {
            "text/plain": [
              "['12']"
            ]
          },
          "metadata": {
            "tags": []
          },
          "execution_count": 375
        }
      ]
    },
    {
      "cell_type": "code",
      "metadata": {
        "id": "TJBVFjgIH8Ic",
        "colab_type": "code",
        "colab": {
          "base_uri": "https://localhost:8080/",
          "height": 125
        },
        "outputId": "a7d67435-e154-4be1-e3e6-450988a66e0a"
      },
      "source": [
        "num_syno = data['relations'].map(lambda x: len(my_filter(x['synonyms'])))\n",
        "num_syno.head()"
      ],
      "execution_count": 376,
      "outputs": [
        {
          "output_type": "execute_result",
          "data": {
            "text/plain": [
              "0     0\n",
              "1     0\n",
              "2    10\n",
              "3     0\n",
              "4     0\n",
              "Name: relations, dtype: int64"
            ]
          },
          "metadata": {
            "tags": []
          },
          "execution_count": 376
        }
      ]
    },
    {
      "cell_type": "code",
      "metadata": {
        "id": "gYjGPK0VIiov",
        "colab_type": "code",
        "colab": {
          "base_uri": "https://localhost:8080/",
          "height": 125
        },
        "outputId": "3e7ae87f-b80d-4ffa-90aa-9b4f76498b19"
      },
      "source": [
        "num_hype = data['relations'].map(lambda x: len(my_filter(x['hypernyms'])))\n",
        "num_hype.head()"
      ],
      "execution_count": 377,
      "outputs": [
        {
          "output_type": "execute_result",
          "data": {
            "text/plain": [
              "0    0\n",
              "1    0\n",
              "2    2\n",
              "3    3\n",
              "4    1\n",
              "Name: relations, dtype: int64"
            ]
          },
          "metadata": {
            "tags": []
          },
          "execution_count": 377
        }
      ]
    },
    {
      "cell_type": "code",
      "metadata": {
        "id": "iQ-KdeadIixH",
        "colab_type": "code",
        "colab": {
          "base_uri": "https://localhost:8080/",
          "height": 125
        },
        "outputId": "2df81028-bf43-45e6-8528-cf045327862f"
      },
      "source": [
        "num_anto = data['relations'].map(lambda x: len(my_filter(x['antonyms'])))\n",
        "num_anto.head()"
      ],
      "execution_count": 378,
      "outputs": [
        {
          "output_type": "execute_result",
          "data": {
            "text/plain": [
              "0    0\n",
              "1    0\n",
              "2    1\n",
              "3    0\n",
              "4    0\n",
              "Name: relations, dtype: int64"
            ]
          },
          "metadata": {
            "tags": []
          },
          "execution_count": 378
        }
      ]
    },
    {
      "cell_type": "code",
      "metadata": {
        "id": "Cn8QrONMIi45",
        "colab_type": "code",
        "colab": {
          "base_uri": "https://localhost:8080/",
          "height": 125
        },
        "outputId": "658431e3-e18e-4031-9732-25321a9092fc"
      },
      "source": [
        "num_hypo = data['relations'].map(lambda x: len(my_filter(x['hyponyms'])))\n",
        "num_hypo.head()"
      ],
      "execution_count": 379,
      "outputs": [
        {
          "output_type": "execute_result",
          "data": {
            "text/plain": [
              "0    0\n",
              "1    0\n",
              "2    0\n",
              "3    0\n",
              "4    0\n",
              "Name: relations, dtype: int64"
            ]
          },
          "metadata": {
            "tags": []
          },
          "execution_count": 379
        }
      ]
    },
    {
      "cell_type": "code",
      "metadata": {
        "id": "LbEDgTI2I54Q",
        "colab_type": "code",
        "colab": {}
      },
      "source": [
        "data.insert(len(data.columns), 'Number of syno', num_syno)"
      ],
      "execution_count": 0,
      "outputs": []
    },
    {
      "cell_type": "code",
      "metadata": {
        "id": "wAS4YT4EJODj",
        "colab_type": "code",
        "colab": {}
      },
      "source": [
        "data.insert(len(data.columns), 'Number of anto', num_anto)"
      ],
      "execution_count": 0,
      "outputs": []
    },
    {
      "cell_type": "code",
      "metadata": {
        "id": "O8lot0PkJQln",
        "colab_type": "code",
        "colab": {}
      },
      "source": [
        "data.insert(len(data.columns), 'Number of hypo', num_hypo)"
      ],
      "execution_count": 0,
      "outputs": []
    },
    {
      "cell_type": "code",
      "metadata": {
        "id": "Wm-P4IttJRkQ",
        "colab_type": "code",
        "colab": {}
      },
      "source": [
        "data.insert(len(data.columns), 'Number of hype', num_hype)"
      ],
      "execution_count": 0,
      "outputs": []
    },
    {
      "cell_type": "code",
      "metadata": {
        "id": "EjGvK1_zJZ9-",
        "colab_type": "code",
        "colab": {
          "base_uri": "https://localhost:8080/",
          "height": 289
        },
        "outputId": "b730eb74-5f32-4c42-c3c5-9875e234a61f"
      },
      "source": [
        "data.head()"
      ],
      "execution_count": 384,
      "outputs": [
        {
          "output_type": "execute_result",
          "data": {
            "text/html": [
              "<div>\n",
              "<style scoped>\n",
              "    .dataframe tbody tr th:only-of-type {\n",
              "        vertical-align: middle;\n",
              "    }\n",
              "\n",
              "    .dataframe tbody tr th {\n",
              "        vertical-align: top;\n",
              "    }\n",
              "\n",
              "    .dataframe thead th {\n",
              "        text-align: right;\n",
              "    }\n",
              "</style>\n",
              "<table border=\"1\" class=\"dataframe\">\n",
              "  <thead>\n",
              "    <tr style=\"text-align: right;\">\n",
              "      <th></th>\n",
              "      <th>title</th>\n",
              "      <th>POS</th>\n",
              "      <th>meanings</th>\n",
              "      <th>relations</th>\n",
              "      <th>phraseme</th>\n",
              "      <th>Number of meanings</th>\n",
              "      <th>Number of examples</th>\n",
              "      <th>Number of syno</th>\n",
              "      <th>Number of anto</th>\n",
              "      <th>Number of hypo</th>\n",
              "      <th>Number of hype</th>\n",
              "    </tr>\n",
              "  </thead>\n",
              "  <tbody>\n",
              "    <tr>\n",
              "      <th>0</th>\n",
              "      <td>Заглавная страница</td>\n",
              "      <td></td>\n",
              "      <td>[]</td>\n",
              "      <td>{'synonyms': [], 'antonyms': [], 'hypernyms': ...</td>\n",
              "      <td>[]</td>\n",
              "      <td>0</td>\n",
              "      <td>0</td>\n",
              "      <td>0</td>\n",
              "      <td>0</td>\n",
              "      <td>0</td>\n",
              "      <td>0</td>\n",
              "    </tr>\n",
              "    <tr>\n",
              "      <th>1</th>\n",
              "      <td>Фемиксира</td>\n",
              "      <td>noun</td>\n",
              "      <td>[[согласно легендам греческой мифологии — горо...</td>\n",
              "      <td>{'synonyms': ['', ''], 'antonyms': ['', ''], '...</td>\n",
              "      <td>[]</td>\n",
              "      <td>1</td>\n",
              "      <td>0</td>\n",
              "      <td>0</td>\n",
              "      <td>0</td>\n",
              "      <td>0</td>\n",
              "      <td>0</td>\n",
              "    </tr>\n",
              "    <tr>\n",
              "      <th>2</th>\n",
              "      <td>мальчик</td>\n",
              "      <td>noun</td>\n",
              "      <td>[[ребёнок либо подросток мужского пола, [Мальч...</td>\n",
              "      <td>{'synonyms': ['частичные: малец', 'мальчуган',...</td>\n",
              "      <td>[а был ли мальчик?, борьба нанайских мальчиков]</td>\n",
              "      <td>6</td>\n",
              "      <td>2</td>\n",
              "      <td>10</td>\n",
              "      <td>1</td>\n",
              "      <td>0</td>\n",
              "      <td>2</td>\n",
              "    </tr>\n",
              "    <tr>\n",
              "      <th>3</th>\n",
              "      <td>публицист</td>\n",
              "      <td>noun</td>\n",
              "      <td>[[журналист, пишущий о политике и общественной...</td>\n",
              "      <td>{'synonyms': [''], 'antonyms': [''], 'hypernym...</td>\n",
              "      <td>[]</td>\n",
              "      <td>2</td>\n",
              "      <td>2</td>\n",
              "      <td>0</td>\n",
              "      <td>0</td>\n",
              "      <td>0</td>\n",
              "      <td>3</td>\n",
              "    </tr>\n",
              "    <tr>\n",
              "      <th>4</th>\n",
              "      <td>Хвост</td>\n",
              "      <td>noun</td>\n",
              "      <td>[[фамилия, []], [, []]]</td>\n",
              "      <td>{'synonyms': ['', ''], 'antonyms': ['', ''], '...</td>\n",
              "      <td>[]</td>\n",
              "      <td>2</td>\n",
              "      <td>2</td>\n",
              "      <td>0</td>\n",
              "      <td>0</td>\n",
              "      <td>0</td>\n",
              "      <td>1</td>\n",
              "    </tr>\n",
              "  </tbody>\n",
              "</table>\n",
              "</div>"
            ],
            "text/plain": [
              "                title   POS  ... Number of hypo Number of hype\n",
              "0  Заглавная страница        ...              0              0\n",
              "1           Фемиксира  noun  ...              0              0\n",
              "2             мальчик  noun  ...              0              2\n",
              "3           публицист  noun  ...              0              3\n",
              "4               Хвост  noun  ...              0              1\n",
              "\n",
              "[5 rows x 11 columns]"
            ]
          },
          "metadata": {
            "tags": []
          },
          "execution_count": 384
        }
      ]
    },
    {
      "cell_type": "code",
      "metadata": {
        "id": "T0pIRx_KJdoS",
        "colab_type": "code",
        "colab": {
          "base_uri": "https://localhost:8080/",
          "height": 125
        },
        "outputId": "50ede7a7-39ee-416b-fb75-7efe788f2acf"
      },
      "source": [
        "data['POS'] = data['POS'].map(lambda x: int(x == 'noun'))\n",
        "data['POS'].head()"
      ],
      "execution_count": 385,
      "outputs": [
        {
          "output_type": "execute_result",
          "data": {
            "text/plain": [
              "0    0\n",
              "1    1\n",
              "2    1\n",
              "3    1\n",
              "4    1\n",
              "Name: POS, dtype: int64"
            ]
          },
          "metadata": {
            "tags": []
          },
          "execution_count": 385
        }
      ]
    },
    {
      "cell_type": "code",
      "metadata": {
        "id": "_xr4gQX1JreI",
        "colab_type": "code",
        "colab": {
          "base_uri": "https://localhost:8080/",
          "height": 125
        },
        "outputId": "01d9b3ac-48a1-4bb9-cba8-0c15976e5d89"
      },
      "source": [
        "num_phrase = data['phraseme'].map(lambda x: len(list(filter(lambda y: y != '', x))))\n",
        "num_phrase.head()"
      ],
      "execution_count": 386,
      "outputs": [
        {
          "output_type": "execute_result",
          "data": {
            "text/plain": [
              "0    0\n",
              "1    0\n",
              "2    2\n",
              "3    0\n",
              "4    0\n",
              "Name: phraseme, dtype: int64"
            ]
          },
          "metadata": {
            "tags": []
          },
          "execution_count": 386
        }
      ]
    },
    {
      "cell_type": "code",
      "metadata": {
        "id": "kOmquAEiKyQ7",
        "colab_type": "code",
        "colab": {}
      },
      "source": [
        "data.insert(len(data.columns), 'Number of phras', num_phrase)"
      ],
      "execution_count": 0,
      "outputs": []
    },
    {
      "cell_type": "code",
      "metadata": {
        "id": "h6-1je4TJ3O1",
        "colab_type": "code",
        "colab": {
          "base_uri": "https://localhost:8080/",
          "height": 289
        },
        "outputId": "89b8fe60-5af1-4196-a7bc-9cf8490c0932"
      },
      "source": [
        "data.head()"
      ],
      "execution_count": 388,
      "outputs": [
        {
          "output_type": "execute_result",
          "data": {
            "text/html": [
              "<div>\n",
              "<style scoped>\n",
              "    .dataframe tbody tr th:only-of-type {\n",
              "        vertical-align: middle;\n",
              "    }\n",
              "\n",
              "    .dataframe tbody tr th {\n",
              "        vertical-align: top;\n",
              "    }\n",
              "\n",
              "    .dataframe thead th {\n",
              "        text-align: right;\n",
              "    }\n",
              "</style>\n",
              "<table border=\"1\" class=\"dataframe\">\n",
              "  <thead>\n",
              "    <tr style=\"text-align: right;\">\n",
              "      <th></th>\n",
              "      <th>title</th>\n",
              "      <th>POS</th>\n",
              "      <th>meanings</th>\n",
              "      <th>relations</th>\n",
              "      <th>phraseme</th>\n",
              "      <th>Number of meanings</th>\n",
              "      <th>Number of examples</th>\n",
              "      <th>Number of syno</th>\n",
              "      <th>Number of anto</th>\n",
              "      <th>Number of hypo</th>\n",
              "      <th>Number of hype</th>\n",
              "      <th>Number of phras</th>\n",
              "    </tr>\n",
              "  </thead>\n",
              "  <tbody>\n",
              "    <tr>\n",
              "      <th>0</th>\n",
              "      <td>Заглавная страница</td>\n",
              "      <td>0</td>\n",
              "      <td>[]</td>\n",
              "      <td>{'synonyms': [], 'antonyms': [], 'hypernyms': ...</td>\n",
              "      <td>[]</td>\n",
              "      <td>0</td>\n",
              "      <td>0</td>\n",
              "      <td>0</td>\n",
              "      <td>0</td>\n",
              "      <td>0</td>\n",
              "      <td>0</td>\n",
              "      <td>0</td>\n",
              "    </tr>\n",
              "    <tr>\n",
              "      <th>1</th>\n",
              "      <td>Фемиксира</td>\n",
              "      <td>1</td>\n",
              "      <td>[[согласно легендам греческой мифологии — горо...</td>\n",
              "      <td>{'synonyms': ['', ''], 'antonyms': ['', ''], '...</td>\n",
              "      <td>[]</td>\n",
              "      <td>1</td>\n",
              "      <td>0</td>\n",
              "      <td>0</td>\n",
              "      <td>0</td>\n",
              "      <td>0</td>\n",
              "      <td>0</td>\n",
              "      <td>0</td>\n",
              "    </tr>\n",
              "    <tr>\n",
              "      <th>2</th>\n",
              "      <td>мальчик</td>\n",
              "      <td>1</td>\n",
              "      <td>[[ребёнок либо подросток мужского пола, [Мальч...</td>\n",
              "      <td>{'synonyms': ['частичные: малец', 'мальчуган',...</td>\n",
              "      <td>[а был ли мальчик?, борьба нанайских мальчиков]</td>\n",
              "      <td>6</td>\n",
              "      <td>2</td>\n",
              "      <td>10</td>\n",
              "      <td>1</td>\n",
              "      <td>0</td>\n",
              "      <td>2</td>\n",
              "      <td>2</td>\n",
              "    </tr>\n",
              "    <tr>\n",
              "      <th>3</th>\n",
              "      <td>публицист</td>\n",
              "      <td>1</td>\n",
              "      <td>[[журналист, пишущий о политике и общественной...</td>\n",
              "      <td>{'synonyms': [''], 'antonyms': [''], 'hypernym...</td>\n",
              "      <td>[]</td>\n",
              "      <td>2</td>\n",
              "      <td>2</td>\n",
              "      <td>0</td>\n",
              "      <td>0</td>\n",
              "      <td>0</td>\n",
              "      <td>3</td>\n",
              "      <td>0</td>\n",
              "    </tr>\n",
              "    <tr>\n",
              "      <th>4</th>\n",
              "      <td>Хвост</td>\n",
              "      <td>1</td>\n",
              "      <td>[[фамилия, []], [, []]]</td>\n",
              "      <td>{'synonyms': ['', ''], 'antonyms': ['', ''], '...</td>\n",
              "      <td>[]</td>\n",
              "      <td>2</td>\n",
              "      <td>2</td>\n",
              "      <td>0</td>\n",
              "      <td>0</td>\n",
              "      <td>0</td>\n",
              "      <td>1</td>\n",
              "      <td>0</td>\n",
              "    </tr>\n",
              "  </tbody>\n",
              "</table>\n",
              "</div>"
            ],
            "text/plain": [
              "                title  POS  ... Number of hype Number of phras\n",
              "0  Заглавная страница    0  ...              0               0\n",
              "1           Фемиксира    1  ...              0               0\n",
              "2             мальчик    1  ...              2               2\n",
              "3           публицист    1  ...              3               0\n",
              "4               Хвост    1  ...              1               0\n",
              "\n",
              "[5 rows x 12 columns]"
            ]
          },
          "metadata": {
            "tags": []
          },
          "execution_count": 388
        }
      ]
    },
    {
      "cell_type": "code",
      "metadata": {
        "id": "TJUvV6odL3c9",
        "colab_type": "code",
        "colab": {}
      },
      "source": [
        "num_data = data.drop(data.columns[[0, 1, 2, 3, 4]], axis=1)\n",
        "num_data.head()\n",
        "num_data.index.name = \"Index\""
      ],
      "execution_count": 0,
      "outputs": []
    },
    {
      "cell_type": "code",
      "metadata": {
        "id": "-rN32Uu2MxkX",
        "colab_type": "code",
        "colab": {
          "base_uri": "https://localhost:8080/",
          "height": 410
        },
        "outputId": "f3261c18-ca60-423d-ece9-d8f3f15e67bc"
      },
      "source": [
        "plt.figure(figsize=(14,6))\n",
        "\n",
        "sns.lineplot(data=num_data, dashes = False)"
      ],
      "execution_count": 390,
      "outputs": [
        {
          "output_type": "execute_result",
          "data": {
            "text/plain": [
              "<matplotlib.axes._subplots.AxesSubplot at 0x7f4cacb34160>"
            ]
          },
          "metadata": {
            "tags": []
          },
          "execution_count": 390
        },
        {
          "output_type": "display_data",
          "data": {
            "image/png": "[encoded data removed]",
            "text/plain": [
              "<Figure size 1008x432 with 1 Axes>"
            ]
          },
          "metadata": {
            "tags": []
          }
        }
      ]
    },
    {
      "cell_type": "code",
      "metadata": {
        "id": "vedzypiYPatt",
        "colab_type": "code",
        "colab": {
          "base_uri": "https://localhost:8080/",
          "height": 410
        },
        "outputId": "0171e876-aa18-4b41-9b20-50a201bf2287"
      },
      "source": [
        "# Set the width and height of the figure\n",
        "plt.figure(figsize=(10,6))\n",
        "\n",
        "# Bar chart by index\n",
        "sns.barplot(x=num_data.index, y=num_data['Number of syno'])\n",
        "\n",
        "# Add label for vertical axis\n",
        "plt.ylabel(\"Number of synonyms\")"
      ],
      "execution_count": 391,
      "outputs": [
        {
          "output_type": "execute_result",
          "data": {
            "text/plain": [
              "Text(0, 0.5, 'Number of synonyms')"
            ]
          },
          "metadata": {
            "tags": []
          },
          "execution_count": 391
        },
        {
          "output_type": "display_data",
          "data": {
            "image/png": "[encoded data removed]",
            "text/plain": [
              "<Figure size 720x432 with 1 Axes>"
            ]
          },
          "metadata": {
            "tags": []
          }
        }
      ]
    },
    {
      "cell_type": "code",
      "metadata": {
        "id": "-8dye40OP8K3",
        "colab_type": "code",
        "colab": {
          "base_uri": "https://localhost:8080/",
          "height": 545
        },
        "outputId": "27dd3495-88f7-43d0-9c61-3c11920d6f2a"
      },
      "source": [
        "# Set the width and height of the figure\n",
        "plt.figure(figsize=(14,7))\n",
        "\n",
        "sns.heatmap(data=num_data, annot=True)\n"
      ],
      "execution_count": 392,
      "outputs": [
        {
          "output_type": "execute_result",
          "data": {
            "text/plain": [
              "<matplotlib.axes._subplots.AxesSubplot at 0x7f4cac9f9cc0>"
            ]
          },
          "metadata": {
            "tags": []
          },
          "execution_count": 392
        },
        {
          "output_type": "display_data",
          "data": {
            "image/png": "[encoded data removed]",
            "text/plain": [
              "<Figure size 1008x504 with 2 Axes>"
            ]
          },
          "metadata": {
            "tags": []
          }
        }
      ]
    },
    {
      "cell_type": "code",
      "metadata": {
        "id": "N7EVewjnQQs_",
        "colab_type": "code",
        "colab": {
          "base_uri": "https://localhost:8080/",
          "height": 161
        },
        "outputId": "c12b0a66-68cd-427c-b7d1-50570dd3f582"
      },
      "source": [
        "num_data.max()"
      ],
      "execution_count": 393,
      "outputs": [
        {
          "output_type": "execute_result",
          "data": {
            "text/plain": [
              "Number of meanings    21\n",
              "Number of examples     2\n",
              "Number of syno        16\n",
              "Number of anto         5\n",
              "Number of hypo        22\n",
              "Number of hype        19\n",
              "Number of phras       46\n",
              "dtype: int64"
            ]
          },
          "metadata": {
            "tags": []
          },
          "execution_count": 393
        }
      ]
    },
    {
      "cell_type": "code",
      "metadata": {
        "id": "3GYAFOlER8tU",
        "colab_type": "code",
        "colab": {
          "base_uri": "https://localhost:8080/",
          "height": 161
        },
        "outputId": "92cc9e1d-d0de-483c-da9e-9ce902843ca5"
      },
      "source": [
        "argmax = num_data.idxmax()\n",
        "argmax.map(lambda x: data['title'][x])"
      ],
      "execution_count": 394,
      "outputs": [
        {
          "output_type": "execute_result",
          "data": {
            "text/plain": [
              "Number of meanings          в\n",
              "Number of examples    мальчик\n",
              "Number of syno              в\n",
              "Number of anto          химия\n",
              "Number of hypo         деньги\n",
              "Number of hype              в\n",
              "Number of phras          день\n",
              "dtype: object"
            ]
          },
          "metadata": {
            "tags": []
          },
          "execution_count": 394
        }
      ]
    },
    {
      "cell_type": "markdown",
      "metadata": {
        "id": "pTh8fpoJTZS2",
        "colab_type": "text"
      },
      "source": [
        "У слова день действительно много фразеологизмов https://ru.wiktionary.org/wiki/%D0%B4%D0%B5%D0%BD%D1%8C"
      ]
    }
  ]
}