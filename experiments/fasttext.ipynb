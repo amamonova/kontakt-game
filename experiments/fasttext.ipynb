{
 "cells": [
  {
   "cell_type": "code",
   "execution_count": 1,
   "metadata": {},
   "outputs": [],
   "source": [
    "from fasttext import load_model\n",
    "import pandas as pd\n",
    "import numpy as np\n",
    "import re\n",
    "from sklearn.model_selection import train_test_split"
   ]
  },
  {
   "cell_type": "code",
   "execution_count": 2,
   "metadata": {},
   "outputs": [],
   "source": [
    "datafile_path = '/media/disk2/vtretyak/wiktionary_data0.json'\n",
    "data = pd.read_json(datafile_path)"
   ]
  },
  {
   "cell_type": "code",
   "execution_count": 3,
   "metadata": {},
   "outputs": [
    {
     "name": "stdout",
     "output_type": "stream",
     "text": [
      "<class 'pandas.core.frame.DataFrame'>\n",
      "Int64Index: 782341 entries, 0 to 782340\n",
      "Data columns (total 5 columns):\n",
      "title        782341 non-null object\n",
      "POS          782341 non-null object\n",
      "meanings     782341 non-null object\n",
      "relations    782341 non-null object\n",
      "phraseme     782341 non-null object\n",
      "dtypes: object(5)\n",
      "memory usage: 35.8+ MB\n"
     ]
    }
   ],
   "source": [
    "data.info()"
   ]
  },
  {
   "cell_type": "code",
   "execution_count": 4,
   "metadata": {},
   "outputs": [],
   "source": [
    "def get_only_meanings(list_means_exmpls):\n",
    "    return [mean[0] for mean in list_means_exmpls if len(mean[0])]"
   ]
  },
  {
   "cell_type": "code",
   "execution_count": 5,
   "metadata": {},
   "outputs": [],
   "source": [
    "data['mean_only'] = data.meanings.apply(get_only_meanings)"
   ]
  },
  {
   "cell_type": "code",
   "execution_count": 6,
   "metadata": {},
   "outputs": [],
   "source": [
    "dataset = data[['title', 'mean_only']]"
   ]
  },
  {
   "cell_type": "code",
   "execution_count": 7,
   "metadata": {},
   "outputs": [],
   "source": [
    "lst_col = 'mean_only'\n",
    "\n",
    "repeats = np.repeat(dataset['title'].values, dataset[lst_col].str.len())\n",
    "\n",
    "concats = [x for inner in dataset[lst_col] for x in inner]\n",
    "\n",
    "assert len(repeats) == len(concats)"
   ]
  },
  {
   "cell_type": "code",
   "execution_count": 8,
   "metadata": {},
   "outputs": [],
   "source": [
    "dataset = pd.DataFrame({'title': repeats, 'meaning': concats})"
   ]
  },
  {
   "cell_type": "code",
   "execution_count": 9,
   "metadata": {},
   "outputs": [
    {
     "data": {
      "text/html": [
       "<div>\n",
       "<style scoped>\n",
       "    .dataframe tbody tr th:only-of-type {\n",
       "        vertical-align: middle;\n",
       "    }\n",
       "\n",
       "    .dataframe tbody tr th {\n",
       "        vertical-align: top;\n",
       "    }\n",
       "\n",
       "    .dataframe thead th {\n",
       "        text-align: right;\n",
       "    }\n",
       "</style>\n",
       "<table border=\"1\" class=\"dataframe\">\n",
       "  <thead>\n",
       "    <tr style=\"text-align: right;\">\n",
       "      <th></th>\n",
       "      <th>title</th>\n",
       "      <th>meaning</th>\n",
       "    </tr>\n",
       "  </thead>\n",
       "  <tbody>\n",
       "    <tr>\n",
       "      <th>0</th>\n",
       "      <td>Фемиксира</td>\n",
       "      <td>согласно легендам греческой мифологии — город ...</td>\n",
       "    </tr>\n",
       "    <tr>\n",
       "      <th>1</th>\n",
       "      <td>эбонитовый</td>\n",
       "      <td>произведённый из эбонита</td>\n",
       "    </tr>\n",
       "    <tr>\n",
       "      <th>2</th>\n",
       "      <td>эбонитовый</td>\n",
       "      <td>очень чёрный</td>\n",
       "    </tr>\n",
       "    <tr>\n",
       "      <th>3</th>\n",
       "      <td>а</td>\n",
       "      <td>название первой буквы русского алфавита или зв...</td>\n",
       "    </tr>\n",
       "    <tr>\n",
       "      <th>4</th>\n",
       "      <td>а</td>\n",
       "      <td>нечто первое в ряду аналогичных предметов, пун...</td>\n",
       "    </tr>\n",
       "  </tbody>\n",
       "</table>\n",
       "</div>"
      ],
      "text/plain": [
       "        title                                            meaning\n",
       "0   Фемиксира  согласно легендам греческой мифологии — город ...\n",
       "1  эбонитовый                           произведённый из эбонита\n",
       "2  эбонитовый                                       очень чёрный\n",
       "3           а  название первой буквы русского алфавита или зв...\n",
       "4           а  нечто первое в ряду аналогичных предметов, пун..."
      ]
     },
     "execution_count": 9,
     "metadata": {},
     "output_type": "execute_result"
    }
   ],
   "source": [
    "dataset.head()"
   ]
  },
  {
   "cell_type": "code",
   "execution_count": 10,
   "metadata": {},
   "outputs": [],
   "source": [
    "del data"
   ]
  },
  {
   "cell_type": "code",
   "execution_count": 11,
   "metadata": {},
   "outputs": [
    {
     "name": "stderr",
     "output_type": "stream",
     "text": [
      "\n"
     ]
    }
   ],
   "source": [
    "ft_model = load_model('/media/disk2/vtretyak/cc.ru.300.bin')"
   ]
  },
  {
   "cell_type": "code",
   "execution_count": 12,
   "metadata": {},
   "outputs": [],
   "source": [
    "#TODO: add preprocessed \n",
    "def normalize(s):\n",
    "    \"\"\"\n",
    "    Given a text, cleans and normalizes it. Feel free to add your own stuff.\n",
    "    \"\"\"\n",
    "    s = s.lower()\n",
    "    # Replace ips\n",
    "    s = re.sub(r'\\d{1,3}\\.\\d{1,3}\\.\\d{1,3}\\.\\d{1,3}', ' _ip_ ', s)\n",
    "    # Isolate punctuation\n",
    "    s = re.sub(r'([\\'\\\"\\.\\(\\)\\!\\?\\-\\\\\\/\\,])', r' \\1 ', s)\n",
    "    # Remove some special characters\n",
    "    s = re.sub(r'([\\;\\:\\|•«\\n])', ' ', s)\n",
    "    # Replace numbers and symbols with language\n",
    "    s = s.replace('&', ' and ')\n",
    "    s = s.replace('@', ' at ')\n",
    "    s = s.replace('0', ' zero ')\n",
    "    s = s.replace('1', ' one ')\n",
    "    s = s.replace('2', ' two ')\n",
    "    s = s.replace('3', ' three ')\n",
    "    s = s.replace('4', ' four ')\n",
    "    s = s.replace('5', ' five ')\n",
    "    s = s.replace('6', ' six ')\n",
    "    s = s.replace('7', ' seven ')\n",
    "    s = s.replace('8', ' eight ')\n",
    "    s = s.replace('9', ' nine ')\n",
    "    return s"
   ]
  },
  {
   "cell_type": "code",
   "execution_count": 13,
   "metadata": {},
   "outputs": [],
   "source": [
    "def text_to_vector(text, window_length=30):\n",
    "    \"\"\"\n",
    "    Given a string, normalizes it, then splits it into words and finally converts\n",
    "    it to a sequence of word vectors.\n",
    "    \"\"\"\n",
    "    n_features = ft_model.get_dimension()\n",
    "    text = normalize(text)\n",
    "    words = text.split()\n",
    "    window = words[-window_length:]\n",
    "      \n",
    "    x = np.zeros((window_length, n_features))\n",
    "\n",
    "    for i, word in enumerate(window):\n",
    "        x[i, :] = ft_model.get_word_vector(word).astype('float32')\n",
    "\n",
    "    return x"
   ]
  },
  {
   "cell_type": "code",
   "execution_count": 14,
   "metadata": {},
   "outputs": [],
   "source": [
    "window_length = 30\n",
    "batch_size = 10\n",
    "dataset_size = 5000\n",
    "\n",
    "#TODO: wrap to function, positive sample\n",
    "X_positive = np.zeros((dataset_size, window_length, 300), dtype='float32')\n",
    "for i, mean in enumerate(dataset['meaning'].values[:dataset_size]):\n",
    "    X_positive[i, :] = text_to_vector(mean)\n",
    "    \n",
    "y_positive = np.zeros((dataset_size, window_length, 300), dtype='float32')\n",
    "for i, title in enumerate(dataset['title'].values[:dataset_size]):\n",
    "    y_positive[i, :] = text_to_vector(title)"
   ]
  },
  {
   "cell_type": "code",
   "execution_count": 16,
   "metadata": {},
   "outputs": [],
   "source": [
    "X_negative = np.zeros((dataset_size, window_length, 300), dtype='float32')\n",
    "for i, mean in enumerate(dataset['meaning'].sample(n=dataset_size).values):\n",
    "    X_negative[i, :] = text_to_vector(mean)\n",
    "    \n",
    "y_negative = np.zeros((dataset_size, window_length, 300), dtype='float32')\n",
    "for i, title in enumerate(dataset['title'].sample(n=dataset_size).values):\n",
    "    y_negative[i, :] = text_to_vector(title)"
   ]
  },
  {
   "cell_type": "code",
   "execution_count": 17,
   "metadata": {},
   "outputs": [
    {
     "name": "stdout",
     "output_type": "stream",
     "text": [
      "(5000, 30, 300) (5000, 30, 300)\n",
      "(5000, 30, 300) (5000, 30, 300)\n"
     ]
    }
   ],
   "source": [
    "print(X_positive.shape,y_positive.shape)\n",
    "print(X_negative.shape,y_negative.shape)"
   ]
  },
  {
   "cell_type": "code",
   "execution_count": 18,
   "metadata": {},
   "outputs": [
    {
     "name": "stdout",
     "output_type": "stream",
     "text": [
      "(10000, 30, 300) (10000, 30, 300) (10000,)\n"
     ]
    }
   ],
   "source": [
    "X_meanings = np.concatenate((X_positive, X_negative), axis=0)\n",
    "X_titles = np.concatenate((y_positive, y_negative), axis=0)\n",
    "y = np.concatenate((np.ones(shape=(X_positive.shape[0])), \n",
    "                    np.zeros(shape=X_negative.shape[0])), axis=0)\n",
    "\n",
    "print(X_meanings.shape, X_titles.shape, y.shape)"
   ]
  },
  {
   "cell_type": "code",
   "execution_count": 19,
   "metadata": {},
   "outputs": [
    {
     "name": "stderr",
     "output_type": "stream",
     "text": [
      "Using TensorFlow backend.\n"
     ]
    }
   ],
   "source": [
    "from sklearn.model_selection import train_test_split\n",
    "from keras.models import Model\n",
    "from keras.layers import LSTM, Activation, Dense, Dropout, Input, Embedding, Add\n",
    "from keras.preprocessing.text import Tokenizer\n",
    "from keras.preprocessing import sequence\n",
    "from keras.callbacks import EarlyStopping\n",
    "from keras.models import Sequential\n",
    "\n",
    "import matplotlib.pyplot as plt\n",
    "\n",
    "%matplotlib inline"
   ]
  },
  {
   "cell_type": "code",
   "execution_count": 20,
   "metadata": {},
   "outputs": [],
   "source": [
    "inputs_title = Input(batch_shape=(batch_size, 30, 300))\n",
    "inputs_meaning = Input(batch_shape=(batch_size, 30, 300))\n",
    "\n",
    "lstm_1 = LSTM(100, dropout=0.2)(inputs_title)\n",
    "lstm_2 = LSTM(100, dropout=0.2)(inputs_meaning)\n",
    "\n",
    "concat = Add()([lstm_1, lstm_2])\n",
    "\n",
    "dense_classification = Dense(1, activation='sigmoid')(concat)\n",
    "\n",
    "model = Model(inputs=[inputs_title, inputs_meaning], outputs=dense_classification)\n",
    "model.compile(optimizer='rmsprop',\n",
    "              loss='binary_crossentropy',\n",
    "              metrics=['accuracy'])"
   ]
  },
  {
   "cell_type": "code",
   "execution_count": 21,
   "metadata": {},
   "outputs": [
    {
     "name": "stdout",
     "output_type": "stream",
     "text": [
      "Model: \"model_1\"\n",
      "__________________________________________________________________________________________________\n",
      "Layer (type)                    Output Shape         Param #     Connected to                     \n",
      "==================================================================================================\n",
      "input_1 (InputLayer)            (10, 30, 300)        0                                            \n",
      "__________________________________________________________________________________________________\n",
      "input_2 (InputLayer)            (10, 30, 300)        0                                            \n",
      "__________________________________________________________________________________________________\n",
      "lstm_1 (LSTM)                   (10, 100)            160400      input_1[0][0]                    \n",
      "__________________________________________________________________________________________________\n",
      "lstm_2 (LSTM)                   (10, 100)            160400      input_2[0][0]                    \n",
      "__________________________________________________________________________________________________\n",
      "add_1 (Add)                     (10, 100)            0           lstm_1[0][0]                     \n",
      "                                                                 lstm_2[0][0]                     \n",
      "__________________________________________________________________________________________________\n",
      "dense_1 (Dense)                 (10, 1)              101         add_1[0][0]                      \n",
      "==================================================================================================\n",
      "Total params: 320,901\n",
      "Trainable params: 320,901\n",
      "Non-trainable params: 0\n",
      "__________________________________________________________________________________________________\n"
     ]
    }
   ],
   "source": [
    "model.summary()"
   ]
  },
  {
   "cell_type": "code",
   "execution_count": 22,
   "metadata": {},
   "outputs": [
    {
     "name": "stdout",
     "output_type": "stream",
     "text": [
      "Train on 7000 samples, validate on 3000 samples\n",
      "Epoch 1/30\n",
      "7000/7000 [==============================] - 15s 2ms/step - loss: 0.3884 - accuracy: 0.8499 - val_loss: 0.6303 - val_accuracy: 0.7597\n",
      "Epoch 2/30\n",
      "7000/7000 [==============================] - 15s 2ms/step - loss: 0.3333 - accuracy: 0.8740 - val_loss: 0.5854 - val_accuracy: 0.7657\n",
      "Epoch 3/30\n",
      "7000/7000 [==============================] - 14s 2ms/step - loss: 0.3238 - accuracy: 0.8750 - val_loss: 0.7523 - val_accuracy: 0.7660\n",
      "Epoch 4/30\n",
      "7000/7000 [==============================] - 15s 2ms/step - loss: 0.3148 - accuracy: 0.8804 - val_loss: 0.8513 - val_accuracy: 0.6547\n",
      "Epoch 5/30\n",
      "7000/7000 [==============================] - 15s 2ms/step - loss: 0.3056 - accuracy: 0.8833 - val_loss: 0.6772 - val_accuracy: 0.7107\n",
      "Epoch 6/30\n",
      "7000/7000 [==============================] - 15s 2ms/step - loss: 0.2900 - accuracy: 0.8927 - val_loss: 0.5691 - val_accuracy: 0.8170\n",
      "Epoch 7/30\n",
      "7000/7000 [==============================] - 15s 2ms/step - loss: 0.2791 - accuracy: 0.8973 - val_loss: 0.6688 - val_accuracy: 0.7807\n",
      "Epoch 8/30\n",
      "7000/7000 [==============================] - 15s 2ms/step - loss: 0.2708 - accuracy: 0.8990 - val_loss: 0.5679 - val_accuracy: 0.8037\n",
      "Epoch 9/30\n",
      "7000/7000 [==============================] - 15s 2ms/step - loss: 0.2648 - accuracy: 0.8981 - val_loss: 0.5445 - val_accuracy: 0.7977\n",
      "Epoch 10/30\n",
      "7000/7000 [==============================] - 15s 2ms/step - loss: 0.2575 - accuracy: 0.9040 - val_loss: 0.6397 - val_accuracy: 0.7250\n",
      "Epoch 11/30\n",
      "7000/7000 [==============================] - 15s 2ms/step - loss: 0.2505 - accuracy: 0.9054 - val_loss: 0.5541 - val_accuracy: 0.7833\n",
      "Epoch 12/30\n",
      "7000/7000 [==============================] - 15s 2ms/step - loss: 0.2476 - accuracy: 0.9059 - val_loss: 0.5311 - val_accuracy: 0.8073\n",
      "Epoch 13/30\n",
      "7000/7000 [==============================] - 15s 2ms/step - loss: 0.2433 - accuracy: 0.9079 - val_loss: 0.4678 - val_accuracy: 0.7960\n",
      "Epoch 14/30\n",
      "7000/7000 [==============================] - 15s 2ms/step - loss: 0.2289 - accuracy: 0.9164 - val_loss: 0.5726 - val_accuracy: 0.7467\n",
      "Epoch 15/30\n",
      "7000/7000 [==============================] - 15s 2ms/step - loss: 0.2243 - accuracy: 0.9149 - val_loss: 0.5187 - val_accuracy: 0.8237\n",
      "Epoch 16/30\n",
      "7000/7000 [==============================] - 15s 2ms/step - loss: 0.2169 - accuracy: 0.9170 - val_loss: 0.6404 - val_accuracy: 0.7803\n",
      "Epoch 17/30\n",
      "7000/7000 [==============================] - 15s 2ms/step - loss: 0.2098 - accuracy: 0.9234 - val_loss: 0.6830 - val_accuracy: 0.7397\n",
      "Epoch 18/30\n",
      "7000/7000 [==============================] - 15s 2ms/step - loss: 0.2075 - accuracy: 0.9239 - val_loss: 0.7193 - val_accuracy: 0.7500\n",
      "Epoch 19/30\n",
      "7000/7000 [==============================] - 15s 2ms/step - loss: 0.2016 - accuracy: 0.9244 - val_loss: 0.4949 - val_accuracy: 0.8177\n",
      "Epoch 20/30\n",
      "7000/7000 [==============================] - 15s 2ms/step - loss: 0.1974 - accuracy: 0.9276 - val_loss: 0.6039 - val_accuracy: 0.7737\n",
      "Epoch 21/30\n",
      "7000/7000 [==============================] - 15s 2ms/step - loss: 0.1874 - accuracy: 0.9339 - val_loss: 0.4922 - val_accuracy: 0.8077\n",
      "Epoch 22/30\n",
      "7000/7000 [==============================] - 15s 2ms/step - loss: 0.1876 - accuracy: 0.9320 - val_loss: 0.5448 - val_accuracy: 0.8290\n",
      "Epoch 23/30\n",
      "7000/7000 [==============================] - 15s 2ms/step - loss: 0.1816 - accuracy: 0.9331 - val_loss: 0.4501 - val_accuracy: 0.8197\n",
      "Epoch 24/30\n",
      "7000/7000 [==============================] - 15s 2ms/step - loss: 0.1670 - accuracy: 0.9387 - val_loss: 0.6352 - val_accuracy: 0.7760\n",
      "Epoch 25/30\n",
      "7000/7000 [==============================] - 15s 2ms/step - loss: 0.1658 - accuracy: 0.9396 - val_loss: 0.6346 - val_accuracy: 0.7720\n",
      "Epoch 26/30\n",
      "7000/7000 [==============================] - 15s 2ms/step - loss: 0.1569 - accuracy: 0.9441 - val_loss: 0.8360 - val_accuracy: 0.7320\n",
      "Epoch 27/30\n",
      "7000/7000 [==============================] - 15s 2ms/step - loss: 0.1574 - accuracy: 0.9443 - val_loss: 0.4708 - val_accuracy: 0.8377\n",
      "Epoch 28/30\n",
      "7000/7000 [==============================] - 15s 2ms/step - loss: 0.1422 - accuracy: 0.9477 - val_loss: 0.4945 - val_accuracy: 0.8307\n",
      "Epoch 29/30\n",
      "7000/7000 [==============================] - 15s 2ms/step - loss: 0.1426 - accuracy: 0.9501 - val_loss: 0.5923 - val_accuracy: 0.7987\n",
      "Epoch 30/30\n",
      "7000/7000 [==============================] - 15s 2ms/step - loss: 0.1375 - accuracy: 0.9509 - val_loss: 0.6610 - val_accuracy: 0.7900\n"
     ]
    }
   ],
   "source": [
    "history = model.fit([X_meanings, X_titles], y,\n",
    "          epochs=30, batch_size=batch_size, validation_split=0.3)"
   ]
  },
  {
   "cell_type": "code",
   "execution_count": 23,
   "metadata": {},
   "outputs": [
    {
     "data": {
      "image/png": "[encoded data removed]",
      "text/plain": [
       "<Figure size 432x288 with 1 Axes>"
      ]
     },
     "metadata": {
      "needs_background": "light"
     },
     "output_type": "display_data"
    },
    {
     "data": {
      "image/png": "[encoded data removed]",
      "text/plain": [
       "<Figure size 432x288 with 1 Axes>"
      ]
     },
     "metadata": {
      "needs_background": "light"
     },
     "output_type": "display_data"
    }
   ],
   "source": [
    "# Plot training & validation accuracy values\n",
    "plt.plot(history.history['accuracy'])\n",
    "plt.plot(history.history['val_accuracy'])\n",
    "plt.title('Model accuracy')\n",
    "plt.ylabel('Accuracy')\n",
    "plt.xlabel('Epoch')\n",
    "plt.legend(['Train', 'Test'], loc='upper left')\n",
    "plt.show()\n",
    "\n",
    "# Plot training & validation loss values\n",
    "plt.plot(history.history['loss'])\n",
    "plt.plot(history.history['val_loss'])\n",
    "plt.title('Model loss')\n",
    "plt.ylabel('Loss')\n",
    "plt.xlabel('Epoch')\n",
    "plt.legend(['Train', 'Test'], loc='upper left')\n",
    "plt.show()"
   ]
  },
  {
   "cell_type": "code",
   "execution_count": null,
   "metadata": {},
   "outputs": [],
   "source": []
  }
 ],
 "metadata": {
  "kernelspec": {
   "display_name": "Python 3",
   "language": "python",
   "name": "python3"
  },
  "language_info": {
   "codemirror_mode": {
    "name": "ipython",
    "version": 3
   },
   "file_extension": ".py",
   "mimetype": "text/x-python",
   "name": "python",
   "nbconvert_exporter": "python",
   "pygments_lexer": "ipython3",
   "version": "3.6.3"
  }
 },
 "nbformat": 4,
 "nbformat_minor": 2
}
